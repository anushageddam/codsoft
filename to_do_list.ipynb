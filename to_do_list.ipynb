{
  "cells": [
    {
      "cell_type": "markdown",
      "metadata": {
        "id": "view-in-github",
        "colab_type": "text"
      },
      "source": [
        "<a href=\"https://colab.research.google.com/github/anushageddam/codsoft/blob/main/to_do_list.ipynb\" target=\"_parent\"><img src=\"https://colab.research.google.com/assets/colab-badge.svg\" alt=\"Open In Colab\"/></a>"
      ]
    },
    {
      "cell_type": "code",
      "execution_count": null,
      "metadata": {
        "colab": {
          "background_save": true,
          "base_uri": "https://localhost:8080/"
        },
        "id": "f3brgbVgqJDM",
        "outputId": "7edfbf24-bfd1-49de-95c4-e8d8b22565a8"
      },
      "outputs": [
        {
          "name": "stdout",
          "output_type": "stream",
          "text": [
            "Welcome to ToDo List!\n",
            "Task added!\n",
            "Task added!\n"
          ]
        }
      ],
      "source": [
        "from pickle import dump, load\n",
        "\n",
        "\n",
        "def add_task(task):\n",
        "    todo_list.append(task)\n",
        "    print(\"Task added!\")\n",
        "\n",
        "\n",
        "def remove_task(task_num):\n",
        "    if 0 <= task_num < len(todo_list):\n",
        "        del todo_list[task_num]\n",
        "        print(\"Task removed!\")\n",
        "    else:\n",
        "        print(\"Invalid task number!\")\n",
        "\n",
        "\n",
        "def display_tasks():\n",
        "    if not todo_list:  # If list is empty\n",
        "        print(\"No tasks to display.\")\n",
        "    else:\n",
        "        for index, task in enumerate(todo_list, start=1):\n",
        "            print(f\"{index}. {task}\")\n",
        "\n",
        "\n",
        "def get_choice():\n",
        "    while True:\n",
        "        try:\n",
        "            choice = int(\n",
        "                input(\n",
        "                    \"Type a number: 1. Adding a task, 2. Removing a task, 3. Displaying tasks, 4. Quit: \"\n",
        "                )\n",
        "            )\n",
        "            if 1 <= choice <= 4:\n",
        "                return choice\n",
        "            else:\n",
        "                print(\"Invalid choice. Try again.\")\n",
        "        except ValueError:\n",
        "            print(\"Please enter a number between 1 and 4.\")\n",
        "\n",
        "\n",
        "if __name__ == \"__main__\":\n",
        "    # Loading the pickle file into python as a list\n",
        "    try:\n",
        "        with open(\"todo.pickle\", \"rb+\") as file_in:\n",
        "            todo_list = load(file_in)\n",
        "    except FileNotFoundError:\n",
        "        todo_list = []\n",
        "\n",
        "    print(\"Welcome to ToDo List!\")\n",
        "\n",
        "    while True:\n",
        "        user_choice = get_choice()\n",
        "\n",
        "        # Adding a task\n",
        "        if user_choice == 1:\n",
        "            new_task = input(\"Type a new task: \")\n",
        "            add_task(new_task)\n",
        "\n",
        "        # Removing a task\n",
        "        elif user_choice == 2:\n",
        "            if not todo_list:  # If list is empty\n",
        "                print(\"No tasks to remove.\")\n",
        "            else:\n",
        "                task_num = int(input(\"Enter the task number to delete: \")) - 1\n",
        "                remove_task(task_num)\n",
        "\n",
        "        # Displaying tasks\n",
        "        elif user_choice == 3:\n",
        "            display_tasks()\n",
        "\n",
        "        # Quit\n",
        "        elif user_choice == 4:\n",
        "            # Dumping the list into a pickle file\n",
        "            with open(\"todo.pickle\", \"wb\") as file_out:\n",
        "                dump(todo_list, file_out)\n",
        "            print(\"Goodbye!\")\n",
        "            break"
      ]
    }
  ],
  "metadata": {
    "colab": {
      "provenance": [],
      "authorship_tag": "ABX9TyPcyn9qcwJWjaSClG9Kn9SH",
      "include_colab_link": true
    },
    "kernelspec": {
      "display_name": "Python 3",
      "name": "python3"
    },
    "language_info": {
      "name": "python"
    }
  },
  "nbformat": 4,
  "nbformat_minor": 0
}
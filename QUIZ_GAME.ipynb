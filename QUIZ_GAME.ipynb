{
  "nbformat": 4,
  "nbformat_minor": 0,
  "metadata": {
    "colab": {
      "provenance": [],
      "authorship_tag": "ABX9TyMZb0WMERQ7LEygm8FmY5cj",
      "include_colab_link": true
    },
    "kernelspec": {
      "name": "python3",
      "display_name": "Python 3"
    },
    "language_info": {
      "name": "python"
    }
  },
  "cells": [
    {
      "cell_type": "markdown",
      "metadata": {
        "id": "view-in-github",
        "colab_type": "text"
      },
      "source": [
        "<a href=\"https://colab.research.google.com/github/anushageddam/codsoft/blob/main/QUIZ_GAME.ipynb\" target=\"_parent\"><img src=\"https://colab.research.google.com/assets/colab-badge.svg\" alt=\"Open In Colab\"/></a>"
      ]
    },
    {
      "cell_type": "code",
      "execution_count": null,
      "metadata": {
        "colab": {
          "base_uri": "https://localhost:8080/"
        },
        "id": "blgkVHuwnmQt",
        "outputId": "ba89e1c4-6db6-44f0-a1ed-fdd917168894"
      },
      "outputs": [
        {
          "output_type": "stream",
          "name": "stdout",
          "text": [
            "Welcome to AskPython Quiz\n",
            "Are you ready to play the Quiz? (yes/no) :yes\n",
            "Question 1: What is your Favourite programming language?python\n",
            "correct\n",
            "Question 2: Do you follow any author on AskPython? askpython\n",
            "Wrong Answer :(\n",
            "Question 3: What is the name of your favourite website for learning Python?askpython\n",
            "correct\n",
            "Thank you for Playing this small quiz game, you attempted 2 questions correctly!\n",
            "Marks obtained: 66%\n",
            "BYE!\n"
          ]
        }
      ],
      "source": [
        "print(\"Welcome to AskPython Quiz\")\n",
        "\n",
        "# Get user's readiness to play the Quiz\n",
        "answer = input(\"Are you ready to play the Quiz? (yes/no) :\")\n",
        "\n",
        "# Initialize the score and total number of questions\n",
        "score = 0\n",
        "total_questions = 3\n",
        "\n",
        "# Check if the user is ready to play\n",
        "if answer.lower() == \"yes\":\n",
        "    # Question 1\n",
        "    answer = input(\"Question 1: What is your Favourite programming language?\")\n",
        "    if answer.lower() == \"python\":\n",
        "        score += 1\n",
        "        print(\"correct\")  # User's answer is correct, increment the score\n",
        "    else:\n",
        "        print(\"Wrong Answer :(\")  # User's answer is incorrect\n",
        "\n",
        "    # Question 2\n",
        "    answer = input(\"Question 2: Do you follow any author on AskPython? \")\n",
        "    if answer.lower() == \"yes\":\n",
        "        score += 1\n",
        "        print(\"correct\")  # User's answer is correct, increment the score\n",
        "    else:\n",
        "        print(\"Wrong Answer :(\")  # User's answer is incorrect\n",
        "\n",
        "    # Question 3\n",
        "    answer = input(\n",
        "        \"Question 3: What is the name of your favourite website for learning Python?\"\n",
        "    )\n",
        "    if answer.lower() == \"askpython\":\n",
        "        score += 1\n",
        "        print(\"correct\")  # User's answer is correct, increment the score\n",
        "    else:\n",
        "        print(\"Wrong Answer :(\")  # User's answer is incorrect\n",
        "\n",
        "# Display the result and user's score\n",
        "print(\n",
        "    \"Thank you for Playing this small quiz game, you attempted\",\n",
        "    score,\n",
        "    \"questions correctly!\",\n",
        ")\n",
        "mark = int((score / total_questions) * 100)\n",
        "print(f\"Marks obtained: {mark}%\")\n",
        "\n",
        "# Farewell message\n",
        "print(\"BYE!\")"
      ]
    }
  ]
}
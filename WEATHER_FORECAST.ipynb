{
  "nbformat": 4,
  "nbformat_minor": 0,
  "metadata": {
    "colab": {
      "provenance": [],
      "authorship_tag": "ABX9TyOChZRnRl2zYxqykakeohPB",
      "include_colab_link": true
    },
    "kernelspec": {
      "name": "python3",
      "display_name": "Python 3"
    },
    "language_info": {
      "name": "python"
    }
  },
  "cells": [
    {
      "cell_type": "markdown",
      "metadata": {
        "id": "view-in-github",
        "colab_type": "text"
      },
      "source": [
        "<a href=\"https://colab.research.google.com/github/anushageddam/codsoft/blob/main/WEATHER_FORECAST.ipynb\" target=\"_parent\"><img src=\"https://colab.research.google.com/assets/colab-badge.svg\" alt=\"Open In Colab\"/></a>"
      ]
    },
    {
      "cell_type": "code",
      "execution_count": null,
      "metadata": {
        "colab": {
          "base_uri": "https://localhost:8080/"
        },
        "id": "FLKXLuGapMHx",
        "outputId": "1678692a-9b00-4b8e-ccfc-8bf3370944e4"
      },
      "outputs": [
        {
          "output_type": "stream",
          "name": "stdout",
          "text": [
            "Enter a city name: kakinada\n",
            "An error occurred.\n"
          ]
        }
      ],
      "source": [
        "import requests\n",
        "\n",
        "API_KEY = \"Your API key\"\n",
        "BASE_URL = \"http://api.openweathermap.org/data/2.5/weather\"\n",
        "\n",
        "city = input(\"Enter a city name: \")\n",
        "request_url = f\"{BASE_URL}?appid={API_KEY}&q={city}\"\n",
        "response = requests.get(request_url)\n",
        "\n",
        "if response.status_code == 200:\n",
        "    data = response.json()\n",
        "    weather = data[\"weather\"][0][\"description\"]\n",
        "    temperature = round(data[\"main\"][\"temp\"] - 273.15, 2)\n",
        "\n",
        "    print(\"Weather:\", weather)\n",
        "    print(\"Temperature:\", temperature, \"celsius\")\n",
        "else:\n",
        "    print(\"An error occurred.\")"
      ]
    }
  ]
}
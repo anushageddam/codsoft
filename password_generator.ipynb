{
  "nbformat": 4,
  "nbformat_minor": 0,
  "metadata": {
    "colab": {
      "provenance": [],
      "authorship_tag": "ABX9TyN3CuEQtHiArz6dbxtXDqPt",
      "include_colab_link": true
    },
    "kernelspec": {
      "name": "python3",
      "display_name": "Python 3"
    },
    "language_info": {
      "name": "python"
    }
  },
  "cells": [
    {
      "cell_type": "markdown",
      "metadata": {
        "id": "view-in-github",
        "colab_type": "text"
      },
      "source": [
        "<a href=\"https://colab.research.google.com/github/anushageddam/codsoft/blob/main/password_generator.ipynb\" target=\"_parent\"><img src=\"https://colab.research.google.com/assets/colab-badge.svg\" alt=\"Open In Colab\"/></a>"
      ]
    },
    {
      "cell_type": "code",
      "execution_count": null,
      "metadata": {
        "colab": {
          "base_uri": "https://localhost:8080/"
        },
        "id": "ZXW5jjx5ojGh",
        "outputId": "714ae3ec-252f-4d7f-b702-66ee4ddfca10"
      },
      "outputs": [
        {
          "output_type": "stream",
          "name": "stdout",
          "text": [
            "_____________________________________\n",
            "| Welcome to this Password Generator |\n",
            "-------------------------------------\n",
            "\n",
            "how long do you want your password to be (minimum of 8 number)4\n",
            "Your password must have at least 8 characters\n",
            "\n",
            "Enter the length of password: 8\n",
            "\n",
            "Your password is: ot>Z/@!z\n",
            "__________________________________________\n",
            "| Thanks for using the Password Generator |\n",
            "------------------------------------------\n"
          ]
        }
      ],
      "source": [
        "import random\n",
        "import string\n",
        "\n",
        "\n",
        "def main():\n",
        "    print(\"_____________________________________\")\n",
        "    print(\"| Welcome to this Password Generator |\")\n",
        "    print(\"-------------------------------------\\n\")\n",
        "    try:\n",
        "        length = int(\n",
        "            input(\"how long do you want your password to be (minimum of 8 number)\")\n",
        "        )\n",
        "    except:\n",
        "        print(\"Input numners only\")\n",
        "    password_length = 0\n",
        "    while password_length < length:\n",
        "        print(\"Your password must have at least 8 characters\")\n",
        "        password_length = getPasswordLength()\n",
        "\n",
        "    all_characters = getCharacters()\n",
        "    password = generatePassword(all_characters, password_length)\n",
        "    print(\"\\nYour password is: \" + password)\n",
        "    print(\"__________________________________________\")\n",
        "    print(\"| Thanks for using the Password Generator |\")\n",
        "    print(\"------------------------------------------\")\n",
        "\n",
        "\n",
        "def getPasswordLength():\n",
        "    # Set the password length with constraints for the password length\n",
        "    password_length = int(input(\"\\nEnter the length of password: \"))\n",
        "    return password_length\n",
        "\n",
        "\n",
        "def getCharacters():\n",
        "    # define the characters\n",
        "    lower = string.ascii_lowercase\n",
        "    upper = string.ascii_uppercase\n",
        "    num = string.digits\n",
        "    symbols = string.punctuation\n",
        "\n",
        "    all_characters = lower + upper + num + symbols\n",
        "    return all_characters\n",
        "8\n",
        "\n",
        "def generatePassword(all_characters, password_length):\n",
        "    # generate a password string\n",
        "    password = \"\".join(random.sample(all_characters, password_length))\n",
        "    return password\n",
        "\n",
        "\n",
        "main()"
      ]
    }
  ]
}